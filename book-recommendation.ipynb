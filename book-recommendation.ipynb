{
 "cells": [
  {
   "cell_type": "code",
   "execution_count": 6,
   "metadata": {},
   "outputs": [],
   "source": [
    "import pandas as pd\n",
    "import numpy as np"
   ]
  },
  {
   "cell_type": "code",
   "execution_count": 7,
   "metadata": {
    "execution": {
     "iopub.execute_input": "2024-08-18T06:19:10.415405Z",
     "iopub.status.busy": "2024-08-18T06:19:10.414959Z",
     "iopub.status.idle": "2024-08-18T06:19:13.779997Z",
     "shell.execute_reply": "2024-08-18T06:19:13.778683Z",
     "shell.execute_reply.started": "2024-08-18T06:19:10.415373Z"
    }
   },
   "outputs": [],
   "source": [
    "import warnings\n",
    "warnings.filterwarnings(\"ignore\")\n",
    "# Loading the Data\n",
    "books=pd.read_csv(\"C:\\\\Users\\\\kvsan\\\\Desktop\\\\Ml projects\\\\Book Recomender\\\\Books.csv\\\\Books.csv\")\n",
    "users=pd.read_csv(\"C:\\\\Users\\\\kvsan\\\\Desktop\\\\Ml projects\\\\Book Recomender\\\\Users.csv\\\\Users.csv\")\n",
    "ratings=pd.read_csv(\"C:\\\\Users\\\\kvsan\\\\Desktop\\\\Ml projects\\\\Book Recomender\\\\Ratings.csv\\\\Ratings.csv\")"
   ]
  },
  {
   "cell_type": "code",
   "execution_count": 8,
   "metadata": {
    "execution": {
     "iopub.execute_input": "2024-08-18T06:19:20.860200Z",
     "iopub.status.busy": "2024-08-18T06:19:20.859669Z",
     "iopub.status.idle": "2024-08-18T06:19:20.889634Z",
     "shell.execute_reply": "2024-08-18T06:19:20.888199Z",
     "shell.execute_reply.started": "2024-08-18T06:19:20.860160Z"
    }
   },
   "outputs": [
    {
     "data": {
      "text/html": [
       "<div>\n",
       "<style scoped>\n",
       "    .dataframe tbody tr th:only-of-type {\n",
       "        vertical-align: middle;\n",
       "    }\n",
       "\n",
       "    .dataframe tbody tr th {\n",
       "        vertical-align: top;\n",
       "    }\n",
       "\n",
       "    .dataframe thead th {\n",
       "        text-align: right;\n",
       "    }\n",
       "</style>\n",
       "<table border=\"1\" class=\"dataframe\">\n",
       "  <thead>\n",
       "    <tr style=\"text-align: right;\">\n",
       "      <th></th>\n",
       "      <th>ISBN</th>\n",
       "      <th>Book-Title</th>\n",
       "      <th>Book-Author</th>\n",
       "      <th>Year-Of-Publication</th>\n",
       "      <th>Publisher</th>\n",
       "      <th>Image-URL-S</th>\n",
       "      <th>Image-URL-M</th>\n",
       "      <th>Image-URL-L</th>\n",
       "    </tr>\n",
       "  </thead>\n",
       "  <tbody>\n",
       "    <tr>\n",
       "      <th>0</th>\n",
       "      <td>0195153448</td>\n",
       "      <td>Classical Mythology</td>\n",
       "      <td>Mark P. O. Morford</td>\n",
       "      <td>2002</td>\n",
       "      <td>Oxford University Press</td>\n",
       "      <td>http://images.amazon.com/images/P/0195153448.0...</td>\n",
       "      <td>http://images.amazon.com/images/P/0195153448.0...</td>\n",
       "      <td>http://images.amazon.com/images/P/0195153448.0...</td>\n",
       "    </tr>\n",
       "    <tr>\n",
       "      <th>1</th>\n",
       "      <td>0002005018</td>\n",
       "      <td>Clara Callan</td>\n",
       "      <td>Richard Bruce Wright</td>\n",
       "      <td>2001</td>\n",
       "      <td>HarperFlamingo Canada</td>\n",
       "      <td>http://images.amazon.com/images/P/0002005018.0...</td>\n",
       "      <td>http://images.amazon.com/images/P/0002005018.0...</td>\n",
       "      <td>http://images.amazon.com/images/P/0002005018.0...</td>\n",
       "    </tr>\n",
       "    <tr>\n",
       "      <th>2</th>\n",
       "      <td>0060973129</td>\n",
       "      <td>Decision in Normandy</td>\n",
       "      <td>Carlo D'Este</td>\n",
       "      <td>1991</td>\n",
       "      <td>HarperPerennial</td>\n",
       "      <td>http://images.amazon.com/images/P/0060973129.0...</td>\n",
       "      <td>http://images.amazon.com/images/P/0060973129.0...</td>\n",
       "      <td>http://images.amazon.com/images/P/0060973129.0...</td>\n",
       "    </tr>\n",
       "    <tr>\n",
       "      <th>3</th>\n",
       "      <td>0374157065</td>\n",
       "      <td>Flu: The Story of the Great Influenza Pandemic...</td>\n",
       "      <td>Gina Bari Kolata</td>\n",
       "      <td>1999</td>\n",
       "      <td>Farrar Straus Giroux</td>\n",
       "      <td>http://images.amazon.com/images/P/0374157065.0...</td>\n",
       "      <td>http://images.amazon.com/images/P/0374157065.0...</td>\n",
       "      <td>http://images.amazon.com/images/P/0374157065.0...</td>\n",
       "    </tr>\n",
       "    <tr>\n",
       "      <th>4</th>\n",
       "      <td>0393045218</td>\n",
       "      <td>The Mummies of Urumchi</td>\n",
       "      <td>E. J. W. Barber</td>\n",
       "      <td>1999</td>\n",
       "      <td>W. W. Norton &amp;amp; Company</td>\n",
       "      <td>http://images.amazon.com/images/P/0393045218.0...</td>\n",
       "      <td>http://images.amazon.com/images/P/0393045218.0...</td>\n",
       "      <td>http://images.amazon.com/images/P/0393045218.0...</td>\n",
       "    </tr>\n",
       "  </tbody>\n",
       "</table>\n",
       "</div>"
      ],
      "text/plain": [
       "         ISBN                                         Book-Title  \\\n",
       "0  0195153448                                Classical Mythology   \n",
       "1  0002005018                                       Clara Callan   \n",
       "2  0060973129                               Decision in Normandy   \n",
       "3  0374157065  Flu: The Story of the Great Influenza Pandemic...   \n",
       "4  0393045218                             The Mummies of Urumchi   \n",
       "\n",
       "            Book-Author Year-Of-Publication                   Publisher  \\\n",
       "0    Mark P. O. Morford                2002     Oxford University Press   \n",
       "1  Richard Bruce Wright                2001       HarperFlamingo Canada   \n",
       "2          Carlo D'Este                1991             HarperPerennial   \n",
       "3      Gina Bari Kolata                1999        Farrar Straus Giroux   \n",
       "4       E. J. W. Barber                1999  W. W. Norton &amp; Company   \n",
       "\n",
       "                                         Image-URL-S  \\\n",
       "0  http://images.amazon.com/images/P/0195153448.0...   \n",
       "1  http://images.amazon.com/images/P/0002005018.0...   \n",
       "2  http://images.amazon.com/images/P/0060973129.0...   \n",
       "3  http://images.amazon.com/images/P/0374157065.0...   \n",
       "4  http://images.amazon.com/images/P/0393045218.0...   \n",
       "\n",
       "                                         Image-URL-M  \\\n",
       "0  http://images.amazon.com/images/P/0195153448.0...   \n",
       "1  http://images.amazon.com/images/P/0002005018.0...   \n",
       "2  http://images.amazon.com/images/P/0060973129.0...   \n",
       "3  http://images.amazon.com/images/P/0374157065.0...   \n",
       "4  http://images.amazon.com/images/P/0393045218.0...   \n",
       "\n",
       "                                         Image-URL-L  \n",
       "0  http://images.amazon.com/images/P/0195153448.0...  \n",
       "1  http://images.amazon.com/images/P/0002005018.0...  \n",
       "2  http://images.amazon.com/images/P/0060973129.0...  \n",
       "3  http://images.amazon.com/images/P/0374157065.0...  \n",
       "4  http://images.amazon.com/images/P/0393045218.0...  "
      ]
     },
     "execution_count": 8,
     "metadata": {},
     "output_type": "execute_result"
    }
   ],
   "source": [
    "books.head()"
   ]
  },
  {
   "cell_type": "code",
   "execution_count": 9,
   "metadata": {
    "execution": {
     "iopub.execute_input": "2024-08-18T06:19:41.753173Z",
     "iopub.status.busy": "2024-08-18T06:19:41.752293Z",
     "iopub.status.idle": "2024-08-18T06:19:41.768130Z",
     "shell.execute_reply": "2024-08-18T06:19:41.766747Z",
     "shell.execute_reply.started": "2024-08-18T06:19:41.753126Z"
    }
   },
   "outputs": [
    {
     "data": {
      "text/html": [
       "<div>\n",
       "<style scoped>\n",
       "    .dataframe tbody tr th:only-of-type {\n",
       "        vertical-align: middle;\n",
       "    }\n",
       "\n",
       "    .dataframe tbody tr th {\n",
       "        vertical-align: top;\n",
       "    }\n",
       "\n",
       "    .dataframe thead th {\n",
       "        text-align: right;\n",
       "    }\n",
       "</style>\n",
       "<table border=\"1\" class=\"dataframe\">\n",
       "  <thead>\n",
       "    <tr style=\"text-align: right;\">\n",
       "      <th></th>\n",
       "      <th>User-ID</th>\n",
       "      <th>Location</th>\n",
       "      <th>Age</th>\n",
       "    </tr>\n",
       "  </thead>\n",
       "  <tbody>\n",
       "    <tr>\n",
       "      <th>0</th>\n",
       "      <td>1</td>\n",
       "      <td>nyc, new york, usa</td>\n",
       "      <td>NaN</td>\n",
       "    </tr>\n",
       "    <tr>\n",
       "      <th>1</th>\n",
       "      <td>2</td>\n",
       "      <td>stockton, california, usa</td>\n",
       "      <td>18.0</td>\n",
       "    </tr>\n",
       "    <tr>\n",
       "      <th>2</th>\n",
       "      <td>3</td>\n",
       "      <td>moscow, yukon territory, russia</td>\n",
       "      <td>NaN</td>\n",
       "    </tr>\n",
       "    <tr>\n",
       "      <th>3</th>\n",
       "      <td>4</td>\n",
       "      <td>porto, v.n.gaia, portugal</td>\n",
       "      <td>17.0</td>\n",
       "    </tr>\n",
       "    <tr>\n",
       "      <th>4</th>\n",
       "      <td>5</td>\n",
       "      <td>farnborough, hants, united kingdom</td>\n",
       "      <td>NaN</td>\n",
       "    </tr>\n",
       "  </tbody>\n",
       "</table>\n",
       "</div>"
      ],
      "text/plain": [
       "   User-ID                            Location   Age\n",
       "0        1                  nyc, new york, usa   NaN\n",
       "1        2           stockton, california, usa  18.0\n",
       "2        3     moscow, yukon territory, russia   NaN\n",
       "3        4           porto, v.n.gaia, portugal  17.0\n",
       "4        5  farnborough, hants, united kingdom   NaN"
      ]
     },
     "execution_count": 9,
     "metadata": {},
     "output_type": "execute_result"
    }
   ],
   "source": [
    "users.head()"
   ]
  },
  {
   "cell_type": "code",
   "execution_count": 10,
   "metadata": {
    "execution": {
     "iopub.execute_input": "2024-08-18T06:19:54.435349Z",
     "iopub.status.busy": "2024-08-18T06:19:54.434828Z",
     "iopub.status.idle": "2024-08-18T06:19:54.448757Z",
     "shell.execute_reply": "2024-08-18T06:19:54.446287Z",
     "shell.execute_reply.started": "2024-08-18T06:19:54.435316Z"
    }
   },
   "outputs": [
    {
     "data": {
      "text/html": [
       "<div>\n",
       "<style scoped>\n",
       "    .dataframe tbody tr th:only-of-type {\n",
       "        vertical-align: middle;\n",
       "    }\n",
       "\n",
       "    .dataframe tbody tr th {\n",
       "        vertical-align: top;\n",
       "    }\n",
       "\n",
       "    .dataframe thead th {\n",
       "        text-align: right;\n",
       "    }\n",
       "</style>\n",
       "<table border=\"1\" class=\"dataframe\">\n",
       "  <thead>\n",
       "    <tr style=\"text-align: right;\">\n",
       "      <th></th>\n",
       "      <th>User-ID</th>\n",
       "      <th>ISBN</th>\n",
       "      <th>Book-Rating</th>\n",
       "    </tr>\n",
       "  </thead>\n",
       "  <tbody>\n",
       "    <tr>\n",
       "      <th>0</th>\n",
       "      <td>276725</td>\n",
       "      <td>034545104X</td>\n",
       "      <td>0</td>\n",
       "    </tr>\n",
       "    <tr>\n",
       "      <th>1</th>\n",
       "      <td>276726</td>\n",
       "      <td>0155061224</td>\n",
       "      <td>5</td>\n",
       "    </tr>\n",
       "    <tr>\n",
       "      <th>2</th>\n",
       "      <td>276727</td>\n",
       "      <td>0446520802</td>\n",
       "      <td>0</td>\n",
       "    </tr>\n",
       "    <tr>\n",
       "      <th>3</th>\n",
       "      <td>276729</td>\n",
       "      <td>052165615X</td>\n",
       "      <td>3</td>\n",
       "    </tr>\n",
       "    <tr>\n",
       "      <th>4</th>\n",
       "      <td>276729</td>\n",
       "      <td>0521795028</td>\n",
       "      <td>6</td>\n",
       "    </tr>\n",
       "  </tbody>\n",
       "</table>\n",
       "</div>"
      ],
      "text/plain": [
       "   User-ID        ISBN  Book-Rating\n",
       "0   276725  034545104X            0\n",
       "1   276726  0155061224            5\n",
       "2   276727  0446520802            0\n",
       "3   276729  052165615X            3\n",
       "4   276729  0521795028            6"
      ]
     },
     "execution_count": 10,
     "metadata": {},
     "output_type": "execute_result"
    }
   ],
   "source": [
    "ratings.head()"
   ]
  },
  {
   "cell_type": "code",
   "execution_count": 11,
   "metadata": {
    "execution": {
     "iopub.execute_input": "2024-08-18T06:22:02.577776Z",
     "iopub.status.busy": "2024-08-18T06:22:02.577349Z",
     "iopub.status.idle": "2024-08-18T06:22:02.585030Z",
     "shell.execute_reply": "2024-08-18T06:22:02.583666Z",
     "shell.execute_reply.started": "2024-08-18T06:22:02.577739Z"
    }
   },
   "outputs": [
    {
     "name": "stdout",
     "output_type": "stream",
     "text": [
      "Books Shape: (271360, 8)\n",
      "Users Shape: (278858, 3)\n",
      "Ratings Shape: (1149780, 3)\n"
     ]
    }
   ],
   "source": [
    "print(\"Books Shape:\",books.shape)\n",
    "print(\"Users Shape:\",users.shape)\n",
    "print(\"Ratings Shape:\",ratings.shape)"
   ]
  },
  {
   "cell_type": "markdown",
   "metadata": {},
   "source": [
    "## **Books Rated by more than 150 members and average rating grater than 3**"
   ]
  },
  {
   "cell_type": "code",
   "execution_count": 12,
   "metadata": {
    "execution": {
     "iopub.execute_input": "2024-08-18T06:27:26.577316Z",
     "iopub.status.busy": "2024-08-18T06:27:26.576812Z",
     "iopub.status.idle": "2024-08-18T06:27:28.144139Z",
     "shell.execute_reply": "2024-08-18T06:27:28.142549Z",
     "shell.execute_reply.started": "2024-08-18T06:27:26.577282Z"
    }
   },
   "outputs": [],
   "source": [
    "ratings_with_names=ratings.merge(books,on=\"ISBN\")"
   ]
  },
  {
   "cell_type": "code",
   "execution_count": 13,
   "metadata": {
    "execution": {
     "iopub.execute_input": "2024-08-18T06:28:28.500437Z",
     "iopub.status.busy": "2024-08-18T06:28:28.500024Z",
     "iopub.status.idle": "2024-08-18T06:28:28.517292Z",
     "shell.execute_reply": "2024-08-18T06:28:28.515778Z",
     "shell.execute_reply.started": "2024-08-18T06:28:28.500406Z"
    }
   },
   "outputs": [
    {
     "data": {
      "text/html": [
       "<div>\n",
       "<style scoped>\n",
       "    .dataframe tbody tr th:only-of-type {\n",
       "        vertical-align: middle;\n",
       "    }\n",
       "\n",
       "    .dataframe tbody tr th {\n",
       "        vertical-align: top;\n",
       "    }\n",
       "\n",
       "    .dataframe thead th {\n",
       "        text-align: right;\n",
       "    }\n",
       "</style>\n",
       "<table border=\"1\" class=\"dataframe\">\n",
       "  <thead>\n",
       "    <tr style=\"text-align: right;\">\n",
       "      <th></th>\n",
       "      <th>User-ID</th>\n",
       "      <th>ISBN</th>\n",
       "      <th>Book-Rating</th>\n",
       "      <th>Book-Title</th>\n",
       "      <th>Book-Author</th>\n",
       "      <th>Year-Of-Publication</th>\n",
       "      <th>Publisher</th>\n",
       "      <th>Image-URL-S</th>\n",
       "      <th>Image-URL-M</th>\n",
       "      <th>Image-URL-L</th>\n",
       "    </tr>\n",
       "  </thead>\n",
       "  <tbody>\n",
       "    <tr>\n",
       "      <th>0</th>\n",
       "      <td>276725</td>\n",
       "      <td>034545104X</td>\n",
       "      <td>0</td>\n",
       "      <td>Flesh Tones: A Novel</td>\n",
       "      <td>M. J. Rose</td>\n",
       "      <td>2002</td>\n",
       "      <td>Ballantine Books</td>\n",
       "      <td>http://images.amazon.com/images/P/034545104X.0...</td>\n",
       "      <td>http://images.amazon.com/images/P/034545104X.0...</td>\n",
       "      <td>http://images.amazon.com/images/P/034545104X.0...</td>\n",
       "    </tr>\n",
       "  </tbody>\n",
       "</table>\n",
       "</div>"
      ],
      "text/plain": [
       "   User-ID        ISBN  Book-Rating            Book-Title Book-Author  \\\n",
       "0   276725  034545104X            0  Flesh Tones: A Novel  M. J. Rose   \n",
       "\n",
       "  Year-Of-Publication         Publisher  \\\n",
       "0                2002  Ballantine Books   \n",
       "\n",
       "                                         Image-URL-S  \\\n",
       "0  http://images.amazon.com/images/P/034545104X.0...   \n",
       "\n",
       "                                         Image-URL-M  \\\n",
       "0  http://images.amazon.com/images/P/034545104X.0...   \n",
       "\n",
       "                                         Image-URL-L  \n",
       "0  http://images.amazon.com/images/P/034545104X.0...  "
      ]
     },
     "execution_count": 13,
     "metadata": {},
     "output_type": "execute_result"
    }
   ],
   "source": [
    "ratings_with_names.head(1)"
   ]
  },
  {
   "cell_type": "code",
   "execution_count": 14,
   "metadata": {
    "execution": {
     "iopub.execute_input": "2024-08-18T06:36:01.659743Z",
     "iopub.status.busy": "2024-08-18T06:36:01.659294Z",
     "iopub.status.idle": "2024-08-18T06:36:02.873404Z",
     "shell.execute_reply": "2024-08-18T06:36:02.872094Z",
     "shell.execute_reply.started": "2024-08-18T06:36:01.659687Z"
    }
   },
   "outputs": [
    {
     "data": {
      "text/plain": [
       "User-ID                0\n",
       "ISBN                   0\n",
       "Book-Rating            0\n",
       "Book-Title             0\n",
       "Book-Author            1\n",
       "Year-Of-Publication    0\n",
       "Publisher              2\n",
       "Image-URL-S            0\n",
       "Image-URL-M            0\n",
       "Image-URL-L            4\n",
       "dtype: int64"
      ]
     },
     "execution_count": 14,
     "metadata": {},
     "output_type": "execute_result"
    }
   ],
   "source": [
    "ratings_with_names.isnull().sum()"
   ]
  },
  {
   "cell_type": "code",
   "execution_count": 15,
   "metadata": {
    "execution": {
     "iopub.execute_input": "2024-08-18T06:45:44.711764Z",
     "iopub.status.busy": "2024-08-18T06:45:44.711228Z",
     "iopub.status.idle": "2024-08-18T06:45:47.055643Z",
     "shell.execute_reply": "2024-08-18T06:45:47.054297Z",
     "shell.execute_reply.started": "2024-08-18T06:45:44.711727Z"
    }
   },
   "outputs": [],
   "source": [
    "book_rating_count=ratings_with_names.groupby(\"Book-Title\").count()[\"Book-Rating\"].reset_index() # Book title and \n",
    "book_rating_count.rename(columns={\"Book-Rating\":\"Count\"},inplace=True)"
   ]
  },
  {
   "cell_type": "code",
   "execution_count": 16,
   "metadata": {
    "execution": {
     "iopub.execute_input": "2024-08-18T06:45:50.143606Z",
     "iopub.status.busy": "2024-08-18T06:45:50.143187Z",
     "iopub.status.idle": "2024-08-18T06:45:51.289275Z",
     "shell.execute_reply": "2024-08-18T06:45:51.287762Z",
     "shell.execute_reply.started": "2024-08-18T06:45:50.143575Z"
    }
   },
   "outputs": [],
   "source": [
    "book_rating_avg=ratings_with_names[[\"Book-Title\",\"Book-Rating\"]].groupby(\"Book-Title\").mean()[\"Book-Rating\"].reset_index()\n",
    "book_rating_avg.rename(columns={\"Book-Rating\":\"AvgRating\"},inplace=True)"
   ]
  },
  {
   "cell_type": "code",
   "execution_count": 17,
   "metadata": {
    "execution": {
     "iopub.execute_input": "2024-08-18T06:45:54.206285Z",
     "iopub.status.busy": "2024-08-18T06:45:54.205847Z",
     "iopub.status.idle": "2024-08-18T06:45:54.408177Z",
     "shell.execute_reply": "2024-08-18T06:45:54.406493Z",
     "shell.execute_reply.started": "2024-08-18T06:45:54.206254Z"
    }
   },
   "outputs": [],
   "source": [
    "popularity_df=book_rating_avg.merge(book_rating_count,on=\"Book-Title\")"
   ]
  },
  {
   "cell_type": "code",
   "execution_count": 18,
   "metadata": {
    "execution": {
     "iopub.execute_input": "2024-08-18T06:45:58.443765Z",
     "iopub.status.busy": "2024-08-18T06:45:58.443282Z",
     "iopub.status.idle": "2024-08-18T06:45:58.458926Z",
     "shell.execute_reply": "2024-08-18T06:45:58.457534Z",
     "shell.execute_reply.started": "2024-08-18T06:45:58.443728Z"
    }
   },
   "outputs": [
    {
     "data": {
      "text/html": [
       "<div>\n",
       "<style scoped>\n",
       "    .dataframe tbody tr th:only-of-type {\n",
       "        vertical-align: middle;\n",
       "    }\n",
       "\n",
       "    .dataframe tbody tr th {\n",
       "        vertical-align: top;\n",
       "    }\n",
       "\n",
       "    .dataframe thead th {\n",
       "        text-align: right;\n",
       "    }\n",
       "</style>\n",
       "<table border=\"1\" class=\"dataframe\">\n",
       "  <thead>\n",
       "    <tr style=\"text-align: right;\">\n",
       "      <th></th>\n",
       "      <th>Book-Title</th>\n",
       "      <th>AvgRating</th>\n",
       "      <th>Count</th>\n",
       "    </tr>\n",
       "  </thead>\n",
       "  <tbody>\n",
       "    <tr>\n",
       "      <th>0</th>\n",
       "      <td>A Light in the Storm: The Civil War Diary of ...</td>\n",
       "      <td>2.250000</td>\n",
       "      <td>4</td>\n",
       "    </tr>\n",
       "    <tr>\n",
       "      <th>1</th>\n",
       "      <td>Always Have Popsicles</td>\n",
       "      <td>0.000000</td>\n",
       "      <td>1</td>\n",
       "    </tr>\n",
       "    <tr>\n",
       "      <th>2</th>\n",
       "      <td>Apple Magic (The Collector's series)</td>\n",
       "      <td>0.000000</td>\n",
       "      <td>1</td>\n",
       "    </tr>\n",
       "    <tr>\n",
       "      <th>3</th>\n",
       "      <td>Ask Lily (Young Women of Faith: Lily Series, ...</td>\n",
       "      <td>8.000000</td>\n",
       "      <td>1</td>\n",
       "    </tr>\n",
       "    <tr>\n",
       "      <th>4</th>\n",
       "      <td>Beyond IBM: Leadership Marketing and Finance ...</td>\n",
       "      <td>0.000000</td>\n",
       "      <td>1</td>\n",
       "    </tr>\n",
       "    <tr>\n",
       "      <th>...</th>\n",
       "      <td>...</td>\n",
       "      <td>...</td>\n",
       "      <td>...</td>\n",
       "    </tr>\n",
       "    <tr>\n",
       "      <th>241066</th>\n",
       "      <td>Ã?Â?lpiraten.</td>\n",
       "      <td>0.000000</td>\n",
       "      <td>2</td>\n",
       "    </tr>\n",
       "    <tr>\n",
       "      <th>241067</th>\n",
       "      <td>Ã?Â?rger mit Produkt X. Roman.</td>\n",
       "      <td>5.250000</td>\n",
       "      <td>4</td>\n",
       "    </tr>\n",
       "    <tr>\n",
       "      <th>241068</th>\n",
       "      <td>Ã?Â?sterlich leben.</td>\n",
       "      <td>7.000000</td>\n",
       "      <td>1</td>\n",
       "    </tr>\n",
       "    <tr>\n",
       "      <th>241069</th>\n",
       "      <td>Ã?Â?stlich der Berge.</td>\n",
       "      <td>2.666667</td>\n",
       "      <td>3</td>\n",
       "    </tr>\n",
       "    <tr>\n",
       "      <th>241070</th>\n",
       "      <td>Ã?Â?thique en toc</td>\n",
       "      <td>4.000000</td>\n",
       "      <td>2</td>\n",
       "    </tr>\n",
       "  </tbody>\n",
       "</table>\n",
       "<p>241071 rows × 3 columns</p>\n",
       "</div>"
      ],
      "text/plain": [
       "                                               Book-Title  AvgRating  Count\n",
       "0        A Light in the Storm: The Civil War Diary of ...   2.250000      4\n",
       "1                                   Always Have Popsicles   0.000000      1\n",
       "2                    Apple Magic (The Collector's series)   0.000000      1\n",
       "3        Ask Lily (Young Women of Faith: Lily Series, ...   8.000000      1\n",
       "4        Beyond IBM: Leadership Marketing and Finance ...   0.000000      1\n",
       "...                                                   ...        ...    ...\n",
       "241066                                      Ã?Â?lpiraten.   0.000000      2\n",
       "241067                     Ã?Â?rger mit Produkt X. Roman.   5.250000      4\n",
       "241068                                Ã?Â?sterlich leben.   7.000000      1\n",
       "241069                              Ã?Â?stlich der Berge.   2.666667      3\n",
       "241070                                  Ã?Â?thique en toc   4.000000      2\n",
       "\n",
       "[241071 rows x 3 columns]"
      ]
     },
     "execution_count": 18,
     "metadata": {},
     "output_type": "execute_result"
    }
   ],
   "source": [
    "popularity_df"
   ]
  },
  {
   "cell_type": "code",
   "execution_count": 19,
   "metadata": {
    "execution": {
     "iopub.execute_input": "2024-08-18T06:49:38.074877Z",
     "iopub.status.busy": "2024-08-18T06:49:38.074434Z",
     "iopub.status.idle": "2024-08-18T06:49:38.084482Z",
     "shell.execute_reply": "2024-08-18T06:49:38.083017Z",
     "shell.execute_reply.started": "2024-08-18T06:49:38.074845Z"
    }
   },
   "outputs": [],
   "source": [
    "Top50_popolar_books=popularity_df[(popularity_df[\"AvgRating\"]>=3) & (popularity_df[\"Count\"]>=150)].sort_values(\"AvgRating\",ascending=False).head(50)"
   ]
  },
  {
   "cell_type": "code",
   "execution_count": 20,
   "metadata": {
    "execution": {
     "iopub.execute_input": "2024-08-18T07:44:42.544207Z",
     "iopub.status.busy": "2024-08-18T07:44:42.543686Z",
     "iopub.status.idle": "2024-08-18T07:44:42.570118Z",
     "shell.execute_reply": "2024-08-18T07:44:42.568799Z",
     "shell.execute_reply.started": "2024-08-18T07:44:42.544173Z"
    }
   },
   "outputs": [
    {
     "data": {
      "text/html": [
       "<div>\n",
       "<style scoped>\n",
       "    .dataframe tbody tr th:only-of-type {\n",
       "        vertical-align: middle;\n",
       "    }\n",
       "\n",
       "    .dataframe tbody tr th {\n",
       "        vertical-align: top;\n",
       "    }\n",
       "\n",
       "    .dataframe thead th {\n",
       "        text-align: right;\n",
       "    }\n",
       "</style>\n",
       "<table border=\"1\" class=\"dataframe\">\n",
       "  <thead>\n",
       "    <tr style=\"text-align: right;\">\n",
       "      <th></th>\n",
       "      <th>Book-Title</th>\n",
       "      <th>AvgRating</th>\n",
       "      <th>Count</th>\n",
       "    </tr>\n",
       "  </thead>\n",
       "  <tbody>\n",
       "    <tr>\n",
       "      <th>80434</th>\n",
       "      <td>Harry Potter and the Prisoner of Azkaban (Book 3)</td>\n",
       "      <td>5.852804</td>\n",
       "      <td>428</td>\n",
       "    </tr>\n",
       "    <tr>\n",
       "      <th>80422</th>\n",
       "      <td>Harry Potter and the Goblet of Fire (Book 4)</td>\n",
       "      <td>5.824289</td>\n",
       "      <td>387</td>\n",
       "    </tr>\n",
       "    <tr>\n",
       "      <th>80441</th>\n",
       "      <td>Harry Potter and the Sorcerer's Stone (Book 1)</td>\n",
       "      <td>5.737410</td>\n",
       "      <td>278</td>\n",
       "    </tr>\n",
       "    <tr>\n",
       "      <th>80426</th>\n",
       "      <td>Harry Potter and the Order of the Phoenix (Boo...</td>\n",
       "      <td>5.501441</td>\n",
       "      <td>347</td>\n",
       "    </tr>\n",
       "    <tr>\n",
       "      <th>60582</th>\n",
       "      <td>Ender's Game (Ender Wiggins Saga (Paperback))</td>\n",
       "      <td>5.409639</td>\n",
       "      <td>249</td>\n",
       "    </tr>\n",
       "    <tr>\n",
       "      <th>80414</th>\n",
       "      <td>Harry Potter and the Chamber of Secrets (Book 2)</td>\n",
       "      <td>5.183453</td>\n",
       "      <td>556</td>\n",
       "    </tr>\n",
       "    <tr>\n",
       "      <th>191612</th>\n",
       "      <td>The Hobbit : The Enchanting Prelude to The Lor...</td>\n",
       "      <td>5.007117</td>\n",
       "      <td>281</td>\n",
       "    </tr>\n",
       "    <tr>\n",
       "      <th>187377</th>\n",
       "      <td>The Fellowship of the Ring (The Lord of the Ri...</td>\n",
       "      <td>4.948370</td>\n",
       "      <td>368</td>\n",
       "    </tr>\n",
       "    <tr>\n",
       "      <th>189274</th>\n",
       "      <td>The Giver (21st Century Reference)</td>\n",
       "      <td>4.916201</td>\n",
       "      <td>179</td>\n",
       "    </tr>\n",
       "    <tr>\n",
       "      <th>94259</th>\n",
       "      <td>Ishmael: An Adventure of the Mind and Spirit</td>\n",
       "      <td>4.907407</td>\n",
       "      <td>162</td>\n",
       "    </tr>\n",
       "    <tr>\n",
       "      <th>80445</th>\n",
       "      <td>Harry Potter and the Sorcerer's Stone (Harry P...</td>\n",
       "      <td>4.895652</td>\n",
       "      <td>575</td>\n",
       "    </tr>\n",
       "    <tr>\n",
       "      <th>211384</th>\n",
       "      <td>The Two Towers (The Lord of the Rings, Part 2)</td>\n",
       "      <td>4.880769</td>\n",
       "      <td>260</td>\n",
       "    </tr>\n",
       "    <tr>\n",
       "      <th>200913</th>\n",
       "      <td>The Other Boleyn Girl</td>\n",
       "      <td>4.761006</td>\n",
       "      <td>159</td>\n",
       "    </tr>\n",
       "    <tr>\n",
       "      <th>219741</th>\n",
       "      <td>To Kill a Mockingbird</td>\n",
       "      <td>4.700000</td>\n",
       "      <td>510</td>\n",
       "    </tr>\n",
       "    <tr>\n",
       "      <th>183573</th>\n",
       "      <td>The Da Vinci Code</td>\n",
       "      <td>4.642539</td>\n",
       "      <td>898</td>\n",
       "    </tr>\n",
       "    <tr>\n",
       "      <th>160107</th>\n",
       "      <td>Siddhartha</td>\n",
       "      <td>4.563953</td>\n",
       "      <td>172</td>\n",
       "    </tr>\n",
       "    <tr>\n",
       "      <th>187880</th>\n",
       "      <td>The Five People You Meet in Heaven</td>\n",
       "      <td>4.551163</td>\n",
       "      <td>430</td>\n",
       "    </tr>\n",
       "    <tr>\n",
       "      <th>7742</th>\n",
       "      <td>A Wrinkle In Time</td>\n",
       "      <td>4.550633</td>\n",
       "      <td>158</td>\n",
       "    </tr>\n",
       "    <tr>\n",
       "      <th>180556</th>\n",
       "      <td>The Catcher in the Rye</td>\n",
       "      <td>4.545657</td>\n",
       "      <td>449</td>\n",
       "    </tr>\n",
       "    <tr>\n",
       "      <th>204672</th>\n",
       "      <td>The Return of the King (The Lord of the Rings,...</td>\n",
       "      <td>4.497630</td>\n",
       "      <td>211</td>\n",
       "    </tr>\n",
       "    <tr>\n",
       "      <th>55014</th>\n",
       "      <td>Dragonfly in Amber</td>\n",
       "      <td>4.476821</td>\n",
       "      <td>151</td>\n",
       "    </tr>\n",
       "    <tr>\n",
       "      <th>196326</th>\n",
       "      <td>The Lovely Bones: A Novel</td>\n",
       "      <td>4.468726</td>\n",
       "      <td>1295</td>\n",
       "    </tr>\n",
       "    <tr>\n",
       "      <th>190081</th>\n",
       "      <td>The Great Gatsby</td>\n",
       "      <td>4.458537</td>\n",
       "      <td>205</td>\n",
       "    </tr>\n",
       "    <tr>\n",
       "      <th>764</th>\n",
       "      <td>1984</td>\n",
       "      <td>4.454225</td>\n",
       "      <td>284</td>\n",
       "    </tr>\n",
       "    <tr>\n",
       "      <th>144165</th>\n",
       "      <td>Prodigal Summer: A Novel</td>\n",
       "      <td>4.450593</td>\n",
       "      <td>253</td>\n",
       "    </tr>\n",
       "    <tr>\n",
       "      <th>128670</th>\n",
       "      <td>Neverwhere</td>\n",
       "      <td>4.449057</td>\n",
       "      <td>265</td>\n",
       "    </tr>\n",
       "    <tr>\n",
       "      <th>206502</th>\n",
       "      <td>The Secret Life of Bees</td>\n",
       "      <td>4.447028</td>\n",
       "      <td>774</td>\n",
       "    </tr>\n",
       "    <tr>\n",
       "      <th>168719</th>\n",
       "      <td>Stupid White Men ...and Other Sorry Excuses fo...</td>\n",
       "      <td>4.356890</td>\n",
       "      <td>283</td>\n",
       "    </tr>\n",
       "    <tr>\n",
       "      <th>223135</th>\n",
       "      <td>Tuesdays with Morrie: An Old Man, a Young Man,...</td>\n",
       "      <td>4.354970</td>\n",
       "      <td>493</td>\n",
       "    </tr>\n",
       "    <tr>\n",
       "      <th>204387</th>\n",
       "      <td>The Red Tent (Bestselling Backlist)</td>\n",
       "      <td>4.334716</td>\n",
       "      <td>723</td>\n",
       "    </tr>\n",
       "    <tr>\n",
       "      <th>27295</th>\n",
       "      <td>Brave New World</td>\n",
       "      <td>4.331858</td>\n",
       "      <td>226</td>\n",
       "    </tr>\n",
       "    <tr>\n",
       "      <th>239022</th>\n",
       "      <td>Year of Wonders</td>\n",
       "      <td>4.331361</td>\n",
       "      <td>169</td>\n",
       "    </tr>\n",
       "    <tr>\n",
       "      <th>191589</th>\n",
       "      <td>The Hitchhiker's Guide to the Galaxy</td>\n",
       "      <td>4.328358</td>\n",
       "      <td>268</td>\n",
       "    </tr>\n",
       "    <tr>\n",
       "      <th>39675</th>\n",
       "      <td>Coraline</td>\n",
       "      <td>4.327869</td>\n",
       "      <td>183</td>\n",
       "    </tr>\n",
       "    <tr>\n",
       "      <th>118982</th>\n",
       "      <td>Memoirs of a Geisha Uk</td>\n",
       "      <td>4.312883</td>\n",
       "      <td>163</td>\n",
       "    </tr>\n",
       "    <tr>\n",
       "      <th>7743</th>\n",
       "      <td>A Wrinkle in Time</td>\n",
       "      <td>4.307292</td>\n",
       "      <td>192</td>\n",
       "    </tr>\n",
       "    <tr>\n",
       "      <th>129379</th>\n",
       "      <td>Nickel and Dimed: On (Not) Getting By in America</td>\n",
       "      <td>4.289552</td>\n",
       "      <td>335</td>\n",
       "    </tr>\n",
       "    <tr>\n",
       "      <th>209778</th>\n",
       "      <td>The Tao of Pooh</td>\n",
       "      <td>4.289100</td>\n",
       "      <td>211</td>\n",
       "    </tr>\n",
       "    <tr>\n",
       "      <th>14607</th>\n",
       "      <td>Animal Farm</td>\n",
       "      <td>4.274678</td>\n",
       "      <td>233</td>\n",
       "    </tr>\n",
       "    <tr>\n",
       "      <th>93381</th>\n",
       "      <td>Into the Wild</td>\n",
       "      <td>4.273810</td>\n",
       "      <td>252</td>\n",
       "    </tr>\n",
       "    <tr>\n",
       "      <th>84480</th>\n",
       "      <td>Holes (Yearling Newbery)</td>\n",
       "      <td>4.272727</td>\n",
       "      <td>154</td>\n",
       "    </tr>\n",
       "    <tr>\n",
       "      <th>55986</th>\n",
       "      <td>Dude, Where's My Country?</td>\n",
       "      <td>4.269663</td>\n",
       "      <td>178</td>\n",
       "    </tr>\n",
       "    <tr>\n",
       "      <th>63867</th>\n",
       "      <td>Fahrenheit 451</td>\n",
       "      <td>4.264059</td>\n",
       "      <td>409</td>\n",
       "    </tr>\n",
       "    <tr>\n",
       "      <th>76287</th>\n",
       "      <td>Good Omens</td>\n",
       "      <td>4.244048</td>\n",
       "      <td>168</td>\n",
       "    </tr>\n",
       "    <tr>\n",
       "      <th>7373</th>\n",
       "      <td>A Walk in the Woods: Rediscovering America on ...</td>\n",
       "      <td>4.243902</td>\n",
       "      <td>205</td>\n",
       "    </tr>\n",
       "    <tr>\n",
       "      <th>74750</th>\n",
       "      <td>Girl with a Pearl Earring</td>\n",
       "      <td>4.218631</td>\n",
       "      <td>526</td>\n",
       "    </tr>\n",
       "    <tr>\n",
       "      <th>129444</th>\n",
       "      <td>Night</td>\n",
       "      <td>4.217822</td>\n",
       "      <td>202</td>\n",
       "    </tr>\n",
       "    <tr>\n",
       "      <th>136145</th>\n",
       "      <td>Outlander</td>\n",
       "      <td>4.173145</td>\n",
       "      <td>283</td>\n",
       "    </tr>\n",
       "    <tr>\n",
       "      <th>127366</th>\n",
       "      <td>Naked</td>\n",
       "      <td>4.158163</td>\n",
       "      <td>196</td>\n",
       "    </tr>\n",
       "    <tr>\n",
       "      <th>185338</th>\n",
       "      <td>The Drawing of the Three (The Dark Tower, Book 2)</td>\n",
       "      <td>4.134078</td>\n",
       "      <td>179</td>\n",
       "    </tr>\n",
       "  </tbody>\n",
       "</table>\n",
       "</div>"
      ],
      "text/plain": [
       "                                               Book-Title  AvgRating  Count\n",
       "80434   Harry Potter and the Prisoner of Azkaban (Book 3)   5.852804    428\n",
       "80422        Harry Potter and the Goblet of Fire (Book 4)   5.824289    387\n",
       "80441      Harry Potter and the Sorcerer's Stone (Book 1)   5.737410    278\n",
       "80426   Harry Potter and the Order of the Phoenix (Boo...   5.501441    347\n",
       "60582       Ender's Game (Ender Wiggins Saga (Paperback))   5.409639    249\n",
       "80414    Harry Potter and the Chamber of Secrets (Book 2)   5.183453    556\n",
       "191612  The Hobbit : The Enchanting Prelude to The Lor...   5.007117    281\n",
       "187377  The Fellowship of the Ring (The Lord of the Ri...   4.948370    368\n",
       "189274                 The Giver (21st Century Reference)   4.916201    179\n",
       "94259        Ishmael: An Adventure of the Mind and Spirit   4.907407    162\n",
       "80445   Harry Potter and the Sorcerer's Stone (Harry P...   4.895652    575\n",
       "211384     The Two Towers (The Lord of the Rings, Part 2)   4.880769    260\n",
       "200913                              The Other Boleyn Girl   4.761006    159\n",
       "219741                              To Kill a Mockingbird   4.700000    510\n",
       "183573                                  The Da Vinci Code   4.642539    898\n",
       "160107                                         Siddhartha   4.563953    172\n",
       "187880                 The Five People You Meet in Heaven   4.551163    430\n",
       "7742                                    A Wrinkle In Time   4.550633    158\n",
       "180556                             The Catcher in the Rye   4.545657    449\n",
       "204672  The Return of the King (The Lord of the Rings,...   4.497630    211\n",
       "55014                                  Dragonfly in Amber   4.476821    151\n",
       "196326                          The Lovely Bones: A Novel   4.468726   1295\n",
       "190081                                   The Great Gatsby   4.458537    205\n",
       "764                                                  1984   4.454225    284\n",
       "144165                           Prodigal Summer: A Novel   4.450593    253\n",
       "128670                                         Neverwhere   4.449057    265\n",
       "206502                            The Secret Life of Bees   4.447028    774\n",
       "168719  Stupid White Men ...and Other Sorry Excuses fo...   4.356890    283\n",
       "223135  Tuesdays with Morrie: An Old Man, a Young Man,...   4.354970    493\n",
       "204387                The Red Tent (Bestselling Backlist)   4.334716    723\n",
       "27295                                     Brave New World   4.331858    226\n",
       "239022                                    Year of Wonders   4.331361    169\n",
       "191589               The Hitchhiker's Guide to the Galaxy   4.328358    268\n",
       "39675                                            Coraline   4.327869    183\n",
       "118982                             Memoirs of a Geisha Uk   4.312883    163\n",
       "7743                                    A Wrinkle in Time   4.307292    192\n",
       "129379   Nickel and Dimed: On (Not) Getting By in America   4.289552    335\n",
       "209778                                    The Tao of Pooh   4.289100    211\n",
       "14607                                         Animal Farm   4.274678    233\n",
       "93381                                       Into the Wild   4.273810    252\n",
       "84480                            Holes (Yearling Newbery)   4.272727    154\n",
       "55986                           Dude, Where's My Country?   4.269663    178\n",
       "63867                                      Fahrenheit 451   4.264059    409\n",
       "76287                                          Good Omens   4.244048    168\n",
       "7373    A Walk in the Woods: Rediscovering America on ...   4.243902    205\n",
       "74750                           Girl with a Pearl Earring   4.218631    526\n",
       "129444                                              Night   4.217822    202\n",
       "136145                                          Outlander   4.173145    283\n",
       "127366                                              Naked   4.158163    196\n",
       "185338  The Drawing of the Three (The Dark Tower, Book 2)   4.134078    179"
      ]
     },
     "execution_count": 20,
     "metadata": {},
     "output_type": "execute_result"
    }
   ],
   "source": [
    "Top50_popolar_books"
   ]
  },
  {
   "cell_type": "markdown",
   "metadata": {},
   "source": [
    "## Colaborative Filtering\n",
    "**We are going to consider books read by more than 50 people and users who read more than 200 books**\n",
    "- **Books > 50**\n",
    "- **Users > 200**"
   ]
  },
  {
   "cell_type": "code",
   "execution_count": 21,
   "metadata": {
    "execution": {
     "iopub.execute_input": "2024-08-18T08:01:46.133769Z",
     "iopub.status.busy": "2024-08-18T08:01:46.132297Z",
     "iopub.status.idle": "2024-08-18T08:01:47.465903Z",
     "shell.execute_reply": "2024-08-18T08:01:47.464651Z",
     "shell.execute_reply.started": "2024-08-18T08:01:46.133701Z"
    }
   },
   "outputs": [],
   "source": [
    "x=ratings_with_names.groupby(\"User-ID\").count()[\"Book-Rating\"]>200 # Users who has rated on more than 200 books\n",
    "imp_users=x[x].index"
   ]
  },
  {
   "cell_type": "code",
   "execution_count": 22,
   "metadata": {
    "execution": {
     "iopub.execute_input": "2024-08-18T08:05:22.488890Z",
     "iopub.status.busy": "2024-08-18T08:05:22.487521Z",
     "iopub.status.idle": "2024-08-18T08:05:22.671491Z",
     "shell.execute_reply": "2024-08-18T08:05:22.670173Z",
     "shell.execute_reply.started": "2024-08-18T08:05:22.488849Z"
    }
   },
   "outputs": [],
   "source": [
    "filtered_users=ratings_with_names[ratings_with_names[\"User-ID\"].isin(imp_users)] # These are all the important users."
   ]
  },
  {
   "cell_type": "code",
   "execution_count": 23,
   "metadata": {},
   "outputs": [],
   "source": [
    "y=filtered_users.groupby(\"Book-Title\").count()[\"Book-Rating\"]>50\n",
    "famous_books=y[y].index"
   ]
  },
  {
   "cell_type": "code",
   "execution_count": 24,
   "metadata": {
    "execution": {
     "iopub.execute_input": "2024-08-18T08:48:22.073271Z",
     "iopub.status.busy": "2024-08-18T08:48:22.071981Z",
     "iopub.status.idle": "2024-08-18T08:48:22.196024Z",
     "shell.execute_reply": "2024-08-18T08:48:22.194672Z",
     "shell.execute_reply.started": "2024-08-18T08:48:22.073234Z"
    }
   },
   "outputs": [],
   "source": [
    "final_ratings=filtered_users[filtered_users[\"Book-Title\"].isin(famous_books)]"
   ]
  },
  {
   "cell_type": "code",
   "execution_count": 25,
   "metadata": {
    "execution": {
     "iopub.execute_input": "2024-08-18T08:48:24.784957Z",
     "iopub.status.busy": "2024-08-18T08:48:24.784090Z",
     "iopub.status.idle": "2024-08-18T08:48:24.844343Z",
     "shell.execute_reply": "2024-08-18T08:48:24.842972Z",
     "shell.execute_reply.started": "2024-08-18T08:48:24.784921Z"
    }
   },
   "outputs": [],
   "source": [
    "pivoit_table=final_ratings.pivot_table(index=\"Book-Title\",columns=\"User-ID\",values=\"Book-Rating\")\n",
    "pivoit_table.fillna(0,inplace=True)"
   ]
  },
  {
   "cell_type": "code",
   "execution_count": 26,
   "metadata": {
    "execution": {
     "iopub.execute_input": "2024-08-18T08:48:27.771841Z",
     "iopub.status.busy": "2024-08-18T08:48:27.771405Z",
     "iopub.status.idle": "2024-08-18T08:48:27.780347Z",
     "shell.execute_reply": "2024-08-18T08:48:27.778769Z",
     "shell.execute_reply.started": "2024-08-18T08:48:27.771809Z"
    }
   },
   "outputs": [
    {
     "data": {
      "text/plain": [
       "(679, 810)"
      ]
     },
     "execution_count": 26,
     "metadata": {},
     "output_type": "execute_result"
    }
   ],
   "source": [
    "pivoit_table.shape"
   ]
  },
  {
   "cell_type": "code",
   "execution_count": 27,
   "metadata": {
    "execution": {
     "iopub.execute_input": "2024-08-18T08:49:04.765477Z",
     "iopub.status.busy": "2024-08-18T08:49:04.765035Z",
     "iopub.status.idle": "2024-08-18T08:49:04.792017Z",
     "shell.execute_reply": "2024-08-18T08:49:04.790469Z",
     "shell.execute_reply.started": "2024-08-18T08:49:04.765446Z"
    }
   },
   "outputs": [],
   "source": [
    "from sklearn.metrics.pairwise import cosine_similarity\n",
    "similarity_matrix=cosine_similarity(pivoit_table)"
   ]
  },
  {
   "cell_type": "code",
   "execution_count": 28,
   "metadata": {
    "execution": {
     "iopub.execute_input": "2024-08-18T08:49:10.996568Z",
     "iopub.status.busy": "2024-08-18T08:49:10.995380Z",
     "iopub.status.idle": "2024-08-18T08:49:11.008848Z",
     "shell.execute_reply": "2024-08-18T08:49:11.007322Z",
     "shell.execute_reply.started": "2024-08-18T08:49:10.996526Z"
    }
   },
   "outputs": [
    {
     "data": {
      "text/plain": [
       "(679, 679)"
      ]
     },
     "execution_count": 28,
     "metadata": {},
     "output_type": "execute_result"
    }
   ],
   "source": [
    "similarity_matrix.shape"
   ]
  },
  {
   "cell_type": "code",
   "execution_count": 29,
   "metadata": {
    "execution": {
     "iopub.execute_input": "2024-08-18T08:53:13.106983Z",
     "iopub.status.busy": "2024-08-18T08:53:13.106461Z",
     "iopub.status.idle": "2024-08-18T08:53:13.115508Z",
     "shell.execute_reply": "2024-08-18T08:53:13.113833Z",
     "shell.execute_reply.started": "2024-08-18T08:53:13.106946Z"
    }
   },
   "outputs": [],
   "source": [
    "def recommender(book_name):\n",
    "    index=np.where(pivoit_table.index==book_name)[0][0]\n",
    "    similar_items=sorted(list(enumerate(similarity_matrix[index])),key=lambda x:x[1],reverse=True)[1:6]\n",
    "    \n",
    "    for i in similar_items:\n",
    "        print(pivoit_table.index[i[0]])\n",
    "    "
   ]
  },
  {
   "cell_type": "code",
   "execution_count": 30,
   "metadata": {
    "execution": {
     "iopub.execute_input": "2024-08-18T08:55:11.292691Z",
     "iopub.status.busy": "2024-08-18T08:55:11.292244Z",
     "iopub.status.idle": "2024-08-18T08:55:11.300942Z",
     "shell.execute_reply": "2024-08-18T08:55:11.299488Z",
     "shell.execute_reply.started": "2024-08-18T08:55:11.292658Z"
    }
   },
   "outputs": [
    {
     "name": "stdout",
     "output_type": "stream",
     "text": [
      "Animal Farm\n",
      "The Handmaid's Tale\n",
      "Brave New World\n",
      "The Vampire Lestat (Vampire Chronicles, Book II)\n",
      "The Hours : A Novel\n"
     ]
    }
   ],
   "source": [
    "recommender(\"1984\")"
   ]
  },
  {
   "cell_type": "code",
   "execution_count": 32,
   "metadata": {},
   "outputs": [],
   "source": [
    "import pickle\n",
    "pickle.dump(Top50_popolar_books,open(\"popular.pkl\",\"wb\"))"
   ]
  },
  {
   "cell_type": "code",
   "execution_count": 40,
   "metadata": {},
   "outputs": [],
   "source": [
    "pickle.dump(pivoit_table,open(\"piviot_table\",\"wb\"))"
   ]
  },
  {
   "cell_type": "code",
   "execution_count": 54,
   "metadata": {},
   "outputs": [],
   "source": [
    "piviot_dict=pivoit_table.to_dict()"
   ]
  },
  {
   "cell_type": "code",
   "execution_count": 58,
   "metadata": {},
   "outputs": [],
   "source": [
    "pickle.dump(piviot_dict,open(\"piviot_dict\",\"wb\"))\n",
    "pickle.dump(similarity_matrix,open(\"similarity_matrix\",\"wb\"))"
   ]
  },
  {
   "cell_type": "code",
   "execution_count": 59,
   "metadata": {},
   "outputs": [
    {
     "data": {
      "text/plain": [
       "array([[1.        , 0.10255025, 0.01220856, ..., 0.12110367, 0.07347567,\n",
       "        0.04316046],\n",
       "       [0.10255025, 1.        , 0.2364573 , ..., 0.07446129, 0.16773875,\n",
       "        0.14263397],\n",
       "       [0.01220856, 0.2364573 , 1.        , ..., 0.04558758, 0.04938579,\n",
       "        0.10796119],\n",
       "       ...,\n",
       "       [0.12110367, 0.07446129, 0.04558758, ..., 1.        , 0.07085128,\n",
       "        0.0196177 ],\n",
       "       [0.07347567, 0.16773875, 0.04938579, ..., 0.07085128, 1.        ,\n",
       "        0.10602962],\n",
       "       [0.04316046, 0.14263397, 0.10796119, ..., 0.0196177 , 0.10602962,\n",
       "        1.        ]])"
      ]
     },
     "execution_count": 59,
     "metadata": {},
     "output_type": "execute_result"
    }
   ],
   "source": [
    "similarity_matrix"
   ]
  },
  {
   "cell_type": "code",
   "execution_count": 64,
   "metadata": {},
   "outputs": [],
   "source": [
    "temp_df = books[books[\"Book-Title\"]==\"1984\"]"
   ]
  },
  {
   "cell_type": "code",
   "execution_count": 71,
   "metadata": {},
   "outputs": [
    {
     "data": {
      "text/plain": [
       "'George Orwell'"
      ]
     },
     "execution_count": 71,
     "metadata": {},
     "output_type": "execute_result"
    }
   ],
   "source": [
    "temp_df[\"Book-Author\"].values[1]"
   ]
  },
  {
   "cell_type": "code",
   "execution_count": null,
   "metadata": {},
   "outputs": [],
   "source": []
  }
 ],
 "metadata": {
  "kaggle": {
   "accelerator": "none",
   "dataSources": [
    {
     "datasetId": 1004280,
     "sourceId": 7595263,
     "sourceType": "datasetVersion"
    }
   ],
   "dockerImageVersionId": 30746,
   "isGpuEnabled": false,
   "isInternetEnabled": false,
   "language": "python",
   "sourceType": "notebook"
  },
  "kernelspec": {
   "display_name": "Python 3 (ipykernel)",
   "language": "python",
   "name": "python3"
  },
  "language_info": {
   "codemirror_mode": {
    "name": "ipython",
    "version": 3
   },
   "file_extension": ".py",
   "mimetype": "text/x-python",
   "name": "python",
   "nbconvert_exporter": "python",
   "pygments_lexer": "ipython3",
   "version": "3.11.4"
  }
 },
 "nbformat": 4,
 "nbformat_minor": 4
}
